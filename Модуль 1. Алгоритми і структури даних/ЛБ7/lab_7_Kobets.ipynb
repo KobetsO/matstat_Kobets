{
 "cells": [
  {
   "cell_type": "markdown",
   "id": "8f4c540f-5658-4db9-9d1d-8a8c2857ace8",
   "metadata": {},
   "source": [
    "<h1 style=\"text-align:center;\">Лабораторна робота №7</h1>\n",
    "<p><b>Тема.</b> Структури даних дерево, купа, геш-таблиця</p>\n",
    "<p><b>Мета:</b> Засвоїти основні функції та алгоритми роботи з деревами та купою засобами Python.</p>"
   ]
  },
  {
   "cell_type": "markdown",
   "id": "09e0b6e4-a023-4336-ab0f-460e79f9b7d7",
   "metadata": {},
   "source": [
    "<p><strong>Завдання для самостійної роботи:</strong></p>"
   ]
  },
  {
   "cell_type": "markdown",
   "id": "58e09f90-7d1f-4a0b-a3cb-97d2b14a8045",
   "metadata": {},
   "source": [
    "<b>1. Написати процедуру генерації купи з будь-якого рандомного масива.</b>"
   ]
  },
  {
   "cell_type": "code",
   "execution_count": null,
   "id": "70f4e0c2-5e05-4d62-afd8-558fd6b6a344",
   "metadata": {},
   "outputs": [],
   "source": [
    "import random\n",
    "\n",
    "def heapify(arr, n, i):\n",
    "    largest = i\n",
    "    left = 2 * i + 1\n",
    "    right = 2 * i + 2\n",
    "\n",
    "    if left < n and arr[i] < arr[left]:\n",
    "        largest = left\n",
    "\n",
    "    if right < n and arr[largest] < arr[right]:\n",
    "        largest = right\n",
    "\n",
    "    if largest != i:\n",
    "        arr[i], arr[largest] = arr[largest], arr[i]\n",
    "        heapify(arr, n, largest)\n",
    "\n",
    "def build_heap(arr):\n",
    "    n = len(arr)\n",
    "    for i in range(n // 2 - 1, -1, -1):\n",
    "        heapify(arr, n, i)\n",
    "\n",
    "arr = [random.randint(1, 100) for _ in range(10)]\n",
    "print(\"Random Array:\", arr)\n",
    "build_heap(arr)\n",
    "print(\"Max-Heap:\", arr)"
   ]
  },
  {
   "cell_type": "code",
   "execution_count": null,
   "id": "7636a14d-f5d1-41e0-85f7-87579f00ac7c",
   "metadata": {},
   "outputs": [],
   "source": [
    "Random Array: [14, 68, 96, 2, 10, 13, 78, 99, 16, 3]\n",
    "Max-Heap: [99, 68, 96, 16, 10, 13, 78, 2, 14, 3]"
   ]
  },
  {
   "cell_type": "markdown",
   "id": "3caf16cc-da7b-4fa9-a0c8-9272772b3205",
   "metadata": {},
   "source": [
    "<b>2. Додати до нього елемент, який дорівнює вашому порядковому номеру у списку групи.</b>"
   ]
  },
  {
   "cell_type": "code",
   "execution_count": null,
   "id": "aeea1325-e5b7-4da3-86aa-7bcff85f4508",
   "metadata": {},
   "outputs": [],
   "source": [
    "import random\n",
    "\n",
    "def heapify(arr, n, i):\n",
    "    largest = i\n",
    "    left = 2 * i + 1\n",
    "    right = 2 * i + 2\n",
    "\n",
    "    if left < n and arr[i] < arr[left]:\n",
    "        largest = left\n",
    "\n",
    "    if right < n and arr[largest] < arr[right]:\n",
    "        largest = right\n",
    "\n",
    "    if largest != i:\n",
    "        arr[i], arr[largest] = arr[largest], arr[i]\n",
    "        heapify(arr, n, largest)\n",
    "\n",
    "def build_heap(arr):\n",
    "    n = len(arr)\n",
    "    for i in range(n // 2 - 1, -1, -1):\n",
    "        heapify(arr, n, i)\n",
    "\n",
    "arr = [random.randint(1, 100) for _ in range(10)]\n",
    "print(\"Random Array:\", arr)\n",
    "build_heap(arr)\n",
    "print(\"Max-Heap:\", arr)\n",
    "\n",
    "def insert(heap, key):\n",
    "    heap.append(key)\n",
    "    i = len(heap) - 1\n",
    "\n",
    "    while i != 0 and heap[(i - 1) // 2] < heap[i]:\n",
    "        heap[(i - 1) // 2], heap[i] = heap[i], heap[(i - 1) // 2]\n",
    "        i = (i - 1) // 2\n",
    "\n",
    "insert(arr, 8)\n",
    "print(\"Heap after insertion:\", arr)"
   ]
  },
  {
   "cell_type": "code",
   "execution_count": null,
   "id": "fb4eea84-4592-4533-bc14-1141375050f4",
   "metadata": {},
   "outputs": [],
   "source": [
    "Random Array: [59, 73, 100, 20, 82, 2, 77, 10, 47, 28]\n",
    "Max-Heap: [100, 82, 77, 47, 73, 2, 59, 10, 20, 28]\n",
    "Heap after insertion: [100, 82, 77, 47, 73, 2, 59, 10, 20, 28, 8]"
   ]
  },
  {
   "cell_type": "markdown",
   "id": "7275b7eb-1997-4265-9c32-4dfab5af5160",
   "metadata": {},
   "source": [
    "<b>3. Вилучити максимальний елемент з купи.</b>"
   ]
  },
  {
   "cell_type": "code",
   "execution_count": null,
   "id": "a50bcd89-ffed-4be5-86c1-5ec7416e1861",
   "metadata": {},
   "outputs": [],
   "source": [
    "import random\n",
    "\n",
    "def heapify(arr, n, i):\n",
    "    largest = i\n",
    "    left = 2 * i + 1\n",
    "    right = 2 * i + 2\n",
    "\n",
    "    if left < n and arr[i] < arr[left]:\n",
    "        largest = left\n",
    "\n",
    "    if right < n and arr[largest] < arr[right]:\n",
    "        largest = right\n",
    "\n",
    "    if largest != i:\n",
    "        arr[i], arr[largest] = arr[largest], arr[i]\n",
    "        heapify(arr, n, largest)\n",
    "\n",
    "def build_heap(arr):\n",
    "    n = len(arr)\n",
    "    for i in range(n // 2 - 1, -1, -1):\n",
    "        heapify(arr, n, i)\n",
    "\n",
    "arr = [random.randint(1, 100) for _ in range(10)]\n",
    "print(\"Random Array:\", arr)\n",
    "build_heap(arr)\n",
    "print(\"Max-Heap:\", arr)\n",
    "\n",
    "def delete_max(heap):\n",
    "    n = len(heap)\n",
    "    if n == 0:\n",
    "        return None\n",
    "    max_elem = heap[0]  \n",
    "    heap[0] = heap[n - 1]\n",
    "    heap.pop()\n",
    "    heapify(heap, len(heap), 0)\n",
    "    return max_elem\n",
    "\n",
    "max_element = delete_max(arr)\n",
    "print(\"Deleted max element:\", max_element)\n",
    "print(\"Heap after deletion:\", arr)"
   ]
  },
  {
   "cell_type": "code",
   "execution_count": null,
   "id": "6d5b4ff6-3d65-4afd-8c7a-e6e10e8a9f02",
   "metadata": {},
   "outputs": [],
   "source": [
    "Random Array: [45, 93, 21, 82, 15, 27, 22, 10, 64, 77]\n",
    "Max-Heap: [93, 82, 27, 64, 77, 21, 22, 10, 45, 15]\n",
    "Deleted max element: 93\n",
    "Heap after deletion: [82, 77, 27, 64, 15, 21, 22, 10, 45]"
   ]
  },
  {
   "cell_type": "markdown",
   "id": "3b981560-288e-4009-bbcb-2b9021b3b91a",
   "metadata": {},
   "source": [
    "<b>4. Оцінити асимптотичну складність (у середньому і в найгіршому випадку) процедур search, insert і delete роботи з купою.</b>\n",
    "\n",
    "1. Пошук (search):\n",
    "   <ul>\n",
    "       <li>В середньому випадку: O(n) - немає ефективного алгоритму пошуку в купі, потрібно перебрати всі елементи.</li>\n",
    "       <li>У найгіршому випадку: O(n) - потрібно перебрати всі елементи.</li>\n",
    "   </ul>\n",
    "   \n",
    "3. Вставка (insert):\n",
    "   <ul>\n",
    "       <li>В середньому випадку: O(log n) - потрібно підняти новий елемент по дереву.</li>\n",
    "       <li>У найгіршому випадку: O(log n) - підйом по дереву до кореня.</li>\n",
    "   </ul>\n",
    "   \n",
    "5. Видалення (delete):\n",
    "   <ul>\n",
    "       <li>В середньому випадку: O(log n) - потрібно опустити кореневий елемент вниз по дереву.</li>\n",
    "       <li>У найгіршому випадку: O(log n) - опускання до найглибшого рівня дерева.</li>\n",
    "   </ul>"
   ]
  },
  {
   "cell_type": "markdown",
   "id": "2ae86624-dbaf-4f44-8141-5e041b80948c",
   "metadata": {},
   "source": [
    "<h5 style=\"text-align:center;\">Контрольні питання</h5>"
   ]
  },
  {
   "cell_type": "markdown",
   "id": "41d60e7f-dd30-4bb7-9fbe-12c35df54967",
   "metadata": {},
   "source": [
    "<b>1. Чим відрізняється структура бінарне дерево від бінарного дерева пошуку?</b>\n",
    "\n",
    "Бінарне дерево:\n",
    "\n",
    "<ul>\n",
    "    <li>Кожен вузол має не більше двох нащадків: лівого і правого.</li>\n",
    "    <li>Немає обмежень на порядок розташування елементів.</li>\n",
    "</ul>\n",
    "Бінарне дерево пошуку:\n",
    "\n",
    "<ul>\n",
    "    <li>Особливий вид бінарного дерева.</li>\n",
    "    <li>Для кожного вузла виконується властивість: значення в лівому піддереві менше за значення в вузлі, а значення в правому піддереві більше за значення в вузлі.</li>\n",
    "    <li>Ця властивість дозволяє ефективно здійснювати операції пошуку, вставки та видалення.</li>\n",
    "</ul>"
   ]
  },
  {
   "cell_type": "markdown",
   "id": "b3cc8723-1952-4bcb-894a-f6c66db478db",
   "metadata": {},
   "source": [
    "<b>2. Чим відрізняється структура бінарне дерево від бінарної купи?</b>\n",
    "\n",
    "Бінарне дерево:\n",
    "\n",
    "<ul>\n",
    "    <li>Загальна структура, де кожен вузол має не більше двох нащадків.</li>\n",
    "    <li>Немає специфічних властивостей щодо порядку розташування елементів.</li>\n",
    "</ul>\n",
    "\n",
    "Бінарна купа:\n",
    "\n",
    "<ul>\n",
    "    <li>Спеціальна структура даних, яка відповідає властивостям купи.</li>\n",
    "    <li>Максимальна купа: значення в кожному вузлі більше або рівне значенням його нащадків.</li>\n",
    "    <li>Мінімальна купа: значення в кожному вузлі менше або рівне значенням його нащадків.</li>\n",
    "    <li>Використовується для ефективної реалізації черг з пріоритетом.</li>\n",
    "</ul>"
   ]
  },
  {
   "cell_type": "markdown",
   "id": "6c4334f2-1589-46da-8ccb-0a3a9cf5b769",
   "metadata": {},
   "source": [
    "<b>3. Які існують типи дерев? Опишіть їхні основні характеристики та переваги.</b>\n",
    "\n",
    "Бінарне дерево: кожен вузол має не більше двох нащадків.\n",
    "\n",
    "<ul>\n",
    "    <li>Простота реалізації.</li>\n",
    "</ul>\n",
    "\n",
    "Бінарне дерево пошуку: властивість впорядкування елементів, що дозволяє ефективно здійснювати пошук.\n",
    "\n",
    "<ul>\n",
    "    <li>Швидкий доступ до елементів.</li>\n",
    "</ul>\n",
    "\n",
    "Балансовані дерева:\n",
    "\n",
    "<ul>\n",
    "    <li>AVL-дерево: кожен вузол підтримує баланс, забезпечуючи O(log n) час виконання операцій.</li>\n",
    "    <li>Чорно-червоне дерево (Red-Black Tree): забезпечує амортизований O(log n) час виконання операцій.</li>\n",
    "    <li>B-дерево: збалансоване дерево, де кожен вузол може мати більше двох нащадків, використовується в базах даних.</li>\n",
    "</ul>\n",
    "\n",
    "Дерево префіксів: використовується для зберігання та пошуку слів в наборі даних.\n",
    "\n",
    "<ul>\n",
    "    <li>Ефективний пошук за префіксами.</li>\n",
    "</ul>"
   ]
  },
  {
   "cell_type": "markdown",
   "id": "dfbaecdb-c382-4715-81c1-1c5b1387dc7c",
   "metadata": {},
   "source": [
    "<b>4. Наведіть приклади задач, які ефективно вирішуються за допомогою дерев.</b>\n",
    "<ul>\n",
    "    <li>Пошук елементів: використання бінарних дерев пошуку для ефективного пошуку, вставки та видалення елементів.</li>\n",
    "    <li>Індексація баз даних: використання B-дерев для забезпечення швидкого доступу до даних.</li>\n",
    "    <li>Побудова та перевірка виразів: використання дерев виразів (Expression Trees).</li>\n",
    "    <li>Автозаповнення та пошук слів: використання Trie для зберігання словників.</li>\n",
    "</ul>"
   ]
  },
  {
   "cell_type": "markdown",
   "id": "0b30aca8-1d12-4e58-91a5-a6b20cedce6a",
   "metadata": {},
   "source": [
    "<b>5. Як організована купа? Опишіть алгоритми додавання та вилучення елементів з купи.</b>\n",
    "\n",
    "Організація купи:\n",
    "\n",
    "Купа зберігається в масиві, де для вузла з індексом i:\n",
    "<ul>\n",
    "    <li>Лівий нащадок знаходиться за індексом 2*i + 1.</li>\n",
    "    <li>Правий нащадок знаходиться за індексом 2*i + 2.</li>\n",
    "</ul>\n",
    "Зазвичай використовуються дві операції: вставка та видалення максимуму (або мінімуму).\n",
    "\n",
    "Алгоритм додавання (insert):"
   ]
  },
  {
   "cell_type": "code",
   "execution_count": null,
   "id": "7ea52a7e-52d3-48a0-bd87-31b8ab3214bb",
   "metadata": {},
   "outputs": [],
   "source": [
    "def insert(heap, key):\n",
    "    heap.append(key)\n",
    "    i = len(heap) - 1\n",
    "    while i != 0 and heap[(i - 1) // 2] < heap[i]:\n",
    "        heap[(i - 1) // 2], heap[i] = heap[i], heap[(i - 1) // 2]\n",
    "        i = (i - 1) // 2"
   ]
  },
  {
   "cell_type": "markdown",
   "id": "e9b0661b-b772-48da-a53a-31f5f4af8469",
   "metadata": {},
   "source": [
    "Алгоритм вилучення максимуму (delete_max):"
   ]
  },
  {
   "cell_type": "code",
   "execution_count": null,
   "id": "96f33398-eb90-49dd-9d0b-ded519f62a69",
   "metadata": {},
   "outputs": [],
   "source": [
    "def delete_max(heap):\n",
    "    n = len(heap)\n",
    "    if n == 0:\n",
    "        return None\n",
    "    max_elem = heap[0]\n",
    "    heap[0] = heap[n - 1]\n",
    "    heap.pop()\n",
    "    heapify(heap, len(heap), 0)\n",
    "    return max_elem"
   ]
  },
  {
   "cell_type": "markdown",
   "id": "8e541dbe-1a88-44b0-a1e2-4b86e165f6f6",
   "metadata": {},
   "source": [
    "<b>6. Які задачі можна ефективно вирішити за допомогою купи? Наведіть приклади.</b>\n",
    "<ul>\n",
    "    <li>Реалізація черг з пріоритетом: швидкий доступ до найбільшого (або найменшого) елемента.</li>\n",
    "    <li>Сортування (Heapsort): ефективний алгоритм сортування з O(n log n) складністю.</li>\n",
    "    <li>Задача про вибір k-го найбільшого елемента: знаходження k-го найбільшого елемента в масиві.</li>\n",
    "    <li>Злиття відсортованих списків: об'єднання кількох відсортованих списків у один відсортований список.</li>\n",
    "</ul>"
   ]
  },
  {
   "cell_type": "markdown",
   "id": "1dc3efdf-e076-4f0d-be2a-014dda40fee7",
   "metadata": {},
   "source": [
    "<b>7. Як геш-функція використовується для зберігання та пошуку даних в хеш-таблиці?</b>\n",
    "\n",
    "Геш-функція:\n",
    "<ul>\n",
    "    <li>Преобразує ключ в індекс масиву, де зберігаються значення.</li>\n",
    "    <li>Геш-функція повинна бути швидкою, ефективною і мінімізувати кількість колізій.</li>\n",
    "</ul>\n",
    "\n",
    "Зберігання та пошук даних:\n",
    "<ul>\n",
    "    <li>При вставці ключа, геш-функція визначає індекс, де ключ буде збережений.</li>\n",
    "    <li>При пошуку ключа, геш-функція використовується для знаходження індексу, де ключ може бути збережений.</li>\n",
    "</ul>"
   ]
  },
  {
   "cell_type": "markdown",
   "id": "65668843-c0c4-449c-a48b-e0c570376fea",
   "metadata": {},
   "source": [
    "<b>8. Опишіть методи вирішення колізій в хеш-таблицях. Які їхні переваги та недоліки?</b>\n",
    "\n",
    "Методи вирішення колізій:\n",
    "\n",
    "Відкрита адресація \n",
    "\n",
    "Лінійне зондування: при колізії шукається наступний вільний слот.\n",
    "<ul>\n",
    "    <li>Переваги: проста реалізація.</li>\n",
    "    <li>Недоліки: можливість кластеризації (поява великих блоків заповнених слотів).</li>\n",
    "</ul>\n",
    "\n",
    "Квадратичне зондування: інтервал пошуку збільшується квадратично.\n",
    "<ul>\n",
    "    <li>Переваги: зменшення кластеризації.</li>\n",
    "    <li>Недоліки: можливість виникнення вторинної кластеризації.</li>\n",
    "</ul>\n",
    "\n",
    "Двійне хешування: використовується друга геш-функція для визначення кроку пошуку.\n",
    "<ul>\n",
    "    <li>Переваги: зменшення кластеризації.</li>\n",
    "    <li>Недоліки: складніша реалізація.</li>\n",
    "</ul>\n",
    "\n",
    "Метод ланцюжків:\n",
    "\n",
    "Колізії вирішуються за допомогою зв'язних списків, де кожен слот містить список всіх елементів з однаковим гешем.\n",
    "<ul>\n",
    "    <li>Переваги: проста реалізація, ефективно працює при великій кількості колізій.</li>\n",
    "    <li>Недоліки: використання додаткової пам'яті для зберігання зв'язних списків.</li>\n",
    "</ul>"
   ]
  }
 ],
 "metadata": {
  "kernelspec": {
   "display_name": "Python 3 (ipykernel)",
   "language": "python",
   "name": "python3"
  },
  "language_info": {
   "codemirror_mode": {
    "name": "ipython",
    "version": 3
   },
   "file_extension": ".py",
   "mimetype": "text/x-python",
   "name": "python",
   "nbconvert_exporter": "python",
   "pygments_lexer": "ipython3",
   "version": "3.12.5"
  }
 },
 "nbformat": 4,
 "nbformat_minor": 5
}
