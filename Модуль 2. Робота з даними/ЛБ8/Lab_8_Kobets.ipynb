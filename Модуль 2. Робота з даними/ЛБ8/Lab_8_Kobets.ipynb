{
 "cells": [
  {
   "cell_type": "markdown",
   "id": "59bb170d-cf21-49ee-8e97-e64fb8db31a3",
   "metadata": {},
   "source": [
    "<h1 style=\"text-align:center;\">Лабораторна робота №8</h1>\n",
    "<p><b>Тема.</b> Структура даних граф. Алгоритми на графах</p>\n",
    "<p><b>Мета:</b> засвоїти представлення структури даних граф та основні алгоритми роботи з ними засобами Python.</p>"
   ]
  },
  {
   "cell_type": "markdown",
   "id": "efdcecf6-973e-4a50-8068-671dbf81802f",
   "metadata": {},
   "source": [
    "<p style=\"text-align:center;\"><strong>Завдання для самостійної роботи:</strong></p>"
   ]
  },
  {
   "cell_type": "markdown",
   "id": "5d2853af-f95a-48a4-99ac-8a5a2ce1a220",
   "metadata": {},
   "source": [
    "<b>– Для варіанту, заданого викладачем, задати і візуалізувати граф за допомогою коду, наведеного у цій роботі.</b>"
   ]
  },
  {
   "cell_type": "markdown",
   "id": "fbebb51e-d210-4f7a-b40b-77d3a0fb7146",
   "metadata": {},
   "source": [
    "<b>– Для свого варіанту реалізувати всі алгоритми, згідно з прикладами, наведеними вище.</b>"
   ]
  },
  {
   "cell_type": "markdown",
   "id": "ed154131-39a9-4146-8a37-8fbc54eb903b",
   "metadata": {},
   "source": [
    "<p>Створення та візуалізація графа:</p>"
   ]
  },
  {
   "cell_type": "code",
   "execution_count": null,
   "id": "5fc7feac-790f-4329-b4a9-29bb85d9d55a",
   "metadata": {},
   "outputs": [],
   "source": [
    "import networkx as nx\n",
    "import matplotlib.pyplot as plt\n",
    "\n",
    "graph = nx.DiGraph()\n",
    "graph.add_edge(1, 2, weight=7)\n",
    "graph.add_edge(1, 3, weight=9)\n",
    "graph.add_edge(2, 4, weight=10)\n",
    "graph.add_edge(3, 4, weight=15)\n",
    "graph.add_edge(4, 5, weight=6)\n",
    "graph.add_edge(5, 6, weight=9)\n",
    "graph.add_edge(2, 6, weight=14)\n",
    "\n",
    "plt.figure(figsize=(8, 8))\n",
    "pos = nx.spring_layout(graph)\n",
    "nx.draw(graph, pos, with_labels=True, node_color='lightblue', edge_color='gray', node_size=2000, font_size=15, arrowsize=20)\n",
    "labels = nx.get_edge_attributes(graph, 'weight')\n",
    "nx.draw_networkx_edge_labels(graph, pos, edge_labels=labels)\n",
    "plt.show()"
   ]
  },
  {
   "cell_type": "markdown",
   "id": "2cab6c29-91e0-4eeb-b76c-1a1975f51fd7",
   "metadata": {},
   "source": [
    "<img src=\"scr/scr1.png\"/>"
   ]
  },
  {
   "cell_type": "markdown",
   "id": "31a3e633-90bc-4acb-b7ce-1d399f4fa7ee",
   "metadata": {},
   "source": [
    "<p>Алгоритм Дейкстри</p>"
   ]
  },
  {
   "cell_type": "code",
   "execution_count": null,
   "id": "57b486b8-7c10-4450-9f95-41e43a2a4120",
   "metadata": {},
   "outputs": [],
   "source": [
    "source = 1\n",
    "target = 6\n",
    "try:\n",
    "    shortest_path = nx.dijkstra_path(graph, source=source, target=target, weight='weight')\n",
    "    shortest_path_length = nx.dijkstra_path_length(graph, source=source, target=target, weight='weight')\n",
    "    print(f\"Найкоротший шлях за Дейкстрою від {source} до {target}: {shortest_path}\")\n",
    "    print(f\"Довжина найкоротшого шляху: {shortest_path_length}\")\n",
    "except nx.NetworkXNoPath:\n",
    "    print(f\"Шлях від {source} до {target} відсутній.\")"
   ]
  },
  {
   "cell_type": "code",
   "execution_count": null,
   "id": "049baff0-71ab-45fc-8e89-b1c8e527d8f8",
   "metadata": {},
   "outputs": [],
   "source": [
    "Найкоротший шлях за Дейкстрою від 1 до 6: [1, 2, 6]\n",
    "Довжина найкоротшого шляху: 21"
   ]
  },
  {
   "cell_type": "markdown",
   "id": "0e832685-aa71-428d-89db-a9c049e32ad1",
   "metadata": {},
   "source": [
    "<p>Алгоритм Беллмана-Форда</p>"
   ]
  },
  {
   "cell_type": "code",
   "execution_count": null,
   "id": "093626ab-e30b-48f9-8845-234d0be11e59",
   "metadata": {},
   "outputs": [],
   "source": [
    "try:\n",
    "    bf_distances = nx.single_source_bellman_ford_path_length(graph, source=source, weight='weight')\n",
    "    print(f\"Відстані за Беллманом-Фордом від {source}: {bf_distances}\")\n",
    "except nx.NetworkXUnbounded:\n",
    "    print(\"Граф містить цикл із від'ємною вагою!\")\n",
    "except nx.NetworkXError as e:\n",
    "    print(f\"Помилка: {e}\")"
   ]
  },
  {
   "cell_type": "code",
   "execution_count": null,
   "id": "67f0aac5-0b55-4bfe-9f7b-c804c6d7e2f2",
   "metadata": {},
   "outputs": [],
   "source": [
    "Відстані за Беллманом-Фордом від 1: {1: 0, 2: 7, 3: 9, 4: 17, 6: 21, 5: 23}"
   ]
  },
  {
   "cell_type": "markdown",
   "id": "4b9d9f14-9ea3-4eb8-baab-11383f6d446f",
   "metadata": {},
   "source": [
    "<p>Пошук в глибину (DFS)</p>"
   ]
  },
  {
   "cell_type": "code",
   "execution_count": null,
   "id": "c927c826-8894-4a4a-9523-6dc49e300d9c",
   "metadata": {},
   "outputs": [],
   "source": [
    "dfs_edges = list(nx.dfs_edges(graph, source=source))\n",
    "print(f\"Обхід графа в глибину (DFS) від {source}: {dfs_edges}\")"
   ]
  },
  {
   "cell_type": "code",
   "execution_count": null,
   "id": "6e163dda-966a-4d5b-9c66-92217acc7b83",
   "metadata": {},
   "outputs": [],
   "source": [
    "Обхід графа в глибину (DFS) від 1: [(1, 2), (2, 4), (4, 5), (5, 6), (1, 3)]"
   ]
  },
  {
   "cell_type": "markdown",
   "id": "48f43f46-7b05-4ba1-aa3d-70a446ef9d52",
   "metadata": {},
   "source": [
    "<p>Пошук у ширину (BFS)</p>"
   ]
  },
  {
   "cell_type": "code",
   "execution_count": null,
   "id": "72dee48d-319e-432f-8fdb-a91439e8fdec",
   "metadata": {},
   "outputs": [],
   "source": [
    "bfs_edges = list(nx.bfs_edges(graph, source=source))\n",
    "print(f\"Обхід графа в ширину (BFS) від {source}: {bfs_edges}\")"
   ]
  },
  {
   "cell_type": "code",
   "execution_count": null,
   "id": "83fe0924-6a0c-43f7-a641-c5452947d501",
   "metadata": {},
   "outputs": [],
   "source": [
    "Обхід графа в ширину (BFS) від 1: [(1, 2), (1, 3), (2, 4), (2, 6), (4, 5)]"
   ]
  },
  {
   "cell_type": "markdown",
   "id": "f089b59f-c309-4256-99ae-c418e4f42014",
   "metadata": {},
   "source": [
    "<p style=\"text-align:center;\"><strong>Контрольні запитання</strong></p>"
   ]
  },
  {
   "cell_type": "markdown",
   "id": "f8159399-4ab4-408a-ada0-eae61c82141b",
   "metadata": {},
   "source": [
    "<p>1. Що таке граф у термінах теорії графів? Наведіть приклади реальних ситуацій, де можна застосовувати графи.</p>"
   ]
  },
  {
   "cell_type": "markdown",
   "id": "e3afdbcb-a432-48b0-9927-fa212ebf5935",
   "metadata": {},
   "source": [
    "<p>Граф — це математична структура, яка складається з набору вершин (які можуть представляти будь-які об'єкти) і ребер, які з'єднують ці вершини. Ребра можуть бути направленими або ненаправленими, в залежності від того, чи мають вони напрямок. Графи можна застосовувати у різних реальних ситуаціях, наприклад:</p>\n",
    "<p>Мережі зв'язку: кожен комп'ютер або пристрій — це вершина, а з'єднання між ними — ребра.</p>\n",
    "<p>Транспортні мережі: міста як вершини, дороги як ребра.</p>\n",
    "<p>Соціальні мережі: користувачі як вершини, зв'язки між ними — ребра.</p>"
   ]
  },
  {
   "cell_type": "markdown",
   "id": "3a276ebe-da7b-4849-bb61-e2f844f91357",
   "metadata": {},
   "source": [
    "<p>2. Які головні види графів існують? Наведіть відмінності між орієнтованими і неорієнтованими графами.</p>"
   ]
  },
  {
   "cell_type": "markdown",
   "id": "fa78f939-7ec9-44f2-a4d9-2ebe44123a01",
   "metadata": {},
   "source": [
    "<p>Існує два основні види графів:</p>\n",
    "<p>Орієнтований граф (Digraph) — це граф, в якому ребра мають напрямок. Тобто, якщо є ребро між двома вершинами, то воно йде лише в одному напрямку.</p>\n",
    "<p>Неорієнтований граф — це граф, в якому ребра не мають напрямку, тобто з'єднання між вершинами симетричне.</p>\n",
    "<p>Відмінності:</p>\n",
    "<p>В орієнтованому графі можна чітко визначити, з якої вершини до якої веде ребро, а в неорієнтованому — це неважливо.</p>\n",
    "<p>У орієнтованому графі ребро може бути одностороннім, а в неорієнтованому воно завжди двостороннє.</p>"
   ]
  },
  {
   "cell_type": "markdown",
   "id": "89f7ed8c-684f-44cb-8c75-c49164a9cf42",
   "metadata": {},
   "source": [
    "<p>3. Як можна подати граф у пам’яті комп’ютера? Опишіть структури даних, які використовуються для зберігання графів.</p>"
   ]
  },
  {
   "cell_type": "markdown",
   "id": "561b3591-124c-4669-b156-f4a55586c75e",
   "metadata": {},
   "source": [
    "<p>Є кілька способів зберігати графи в пам’яті:</p>\n",
    "<p>Список суміжності: для кожної вершини зберігається список її сусідів. Це дуже ефективно для розріджених графів.</p>\n",
    "<p>Матриця суміжності: двовимірна матриця, де кожен елемент показує наявність чи відсутність ребра між двома вершинами. Цей спосіб не дуже ефективний для великих або рідких графів.</p>"
   ]
  },
  {
   "cell_type": "markdown",
   "id": "7a7943a3-fe13-4480-baab-a11a0636ba13",
   "metadata": {},
   "source": [
    "<p>4. Як працює алгоритм пошуку в ширину (BFS) на графах? Наведіть приклади ситуацій, де застосовується цей алгоритм.</p>"
   ]
  },
  {
   "cell_type": "markdown",
   "id": "16e4e5cb-9b22-4dd7-8c01-78b7cecde088",
   "metadata": {},
   "source": [
    "<p>Алгоритм BFS працює так: починається з однієї вершини, і по черзі відвідує всі її сусідні вершини, потім — сусідів цих вершин, і так далі. В основі BFS — використання черги для обробки вершин. Це дає можливість знайти найкоротший шлях між двома вершинами в неваженому графі.</p>\n",
    "<p>Приклад застосування BFS:</p>\n",
    "<p>Пошук найкоротшого шляху в транспортних мережах (місто A до міста B).</p>\n",
    "<p>Пошук найкоротшого шляху в транспортних мережах (місто A до міста B).</p>"
   ]
  },
  {
   "cell_type": "markdown",
   "id": "c032f758-2bb3-4573-b8fa-5cc38d3ebebb",
   "metadata": {},
   "source": [
    "<p>5. Що таке алгоритм пошуку в глибину (DFS) на графах? Як він відрізняється від BFS? Надайте приклади задач, де використовується DFS.</p>"
   ]
  },
  {
   "cell_type": "markdown",
   "id": "342133dd-7baa-4475-b49a-1e0f15cfca4a",
   "metadata": {},
   "source": [
    "<p>Алгоритм DFS працює так: починається з вершини і йде по шляху, поки не досягне кінцевої вершини або не буде неможливості рухатися далі. Потім повертається назад і намагається йти по іншому шляху. Це реалізується через стек або рекурсію.</p>\n",
    "<p>Відмінності між DFS і BFS:</p>\n",
    "<p>BFS шукає шляхи по рівнях, обробляючи всі сусідні вершини перед тим, як переходити до наступного рівня. DFS йде глибше по одному шляху.</p>\n",
    "<p>BFS використовує чергу, а DFS — стек або рекурсію.</p>\n",
    "<p>Приклад застосування DFS:</p>\n",
    "<p>Топологічне сортування графа.</p>\n",
    "<p>Пошук компонент зв’язності в графах (щоб знайти, чи є в графі окремі підгрупи з’єднаних вершин).</p>"
   ]
  },
  {
   "cell_type": "markdown",
   "id": "45a8832a-6be5-41bb-b3cd-5466ecde0a31",
   "metadata": {},
   "source": [
    "<p>6. Опишіть алгоритм Дейкстри для пошуку найкоротшого шляху в графі. Які умови повинні виконуватися для успішної роботи цього алгоритму?</p>"
   ]
  },
  {
   "cell_type": "markdown",
   "id": "c1e80323-1ace-42e1-b692-40e9407c9d67",
   "metadata": {},
   "source": [
    "<p>Алгоритм Дейкстри шукає найкоротші шляхи від початкової вершини до всіх інших. Для цього:</p>\n",
    "<p>Спочатку для кожної вершини встановлюється відстань від початкової як нескінченність, а для початкової — 0.</p>\n",
    "<p>Алгоритм поступово вибирає вершини з найменшою відстанню і оновлює відстані до сусідів.</p>\n",
    "<p>Це повторюється до тих пір, поки всі вершини не будуть оброблені.</p>\n",
    "<p>Умови для застосування:</p>\n",
    "<p>Граф не повинен містити від’ємних ваг на ребрах, оскільки алгоритм Дейкстри не працює з від’ємними вагами.</p>"
   ]
  }
 ],
 "metadata": {
  "kernelspec": {
   "display_name": "Python 3 (ipykernel)",
   "language": "python",
   "name": "python3"
  },
  "language_info": {
   "codemirror_mode": {
    "name": "ipython",
    "version": 3
   },
   "file_extension": ".py",
   "mimetype": "text/x-python",
   "name": "python",
   "nbconvert_exporter": "python",
   "pygments_lexer": "ipython3",
   "version": "3.12.5"
  }
 },
 "nbformat": 4,
 "nbformat_minor": 5
}
