{
 "cells": [
  {
   "cell_type": "markdown",
   "id": "af63eb09-3c73-49af-804f-c3e1c8acccc4",
   "metadata": {},
   "source": [
    "<h1 style=\"text-align:center;\">Лабораторна робота №1</h1>\n",
    "<p><b>Тема.</b> Симплекс-метод розв’язання задачі лінійного програмування</p>\n",
    "<p><b>Мета:</b> навчитися розв’язувати задачу лінійного програмування (ЗЛП) симплекс-методом.</p>"
   ]
  },
  {
   "cell_type": "markdown",
   "id": "7b6018aa-5d1b-403e-8378-11f09091aa3c",
   "metadata": {},
   "source": [
    "<p><strong>Завдання для самостійної роботи:</strong></p>"
   ]
  },
  {
   "cell_type": "markdown",
   "id": "148e22f7-1738-44c9-bd0f-24ba2f36d744",
   "metadata": {},
   "source": [
    "<b>Завдання 1</b>\n",
    "<br>Розв’язати задачу ЛП згідно з індивідуальним варіантом з Практичного заняття 1 (Графічний метод) з методички для практичних занять і самостійної роботи.</br>"
   ]
  },
  {
   "cell_type": "markdown",
   "id": "df8a1a4d-cce7-4ea8-9b6b-826f73c5f179",
   "metadata": {},
   "source": [
    "<img src=\"src\\src1.jpg\" />"
   ]
  },
  {
   "cell_type": "code",
   "execution_count": null,
   "id": "e73c0e53-7f5a-4d2a-b0b7-8c789412bcdf",
   "metadata": {},
   "outputs": [],
   "source": [
    "from scipy.optimize import linprog\n",
    "\n",
    "obj = [5, 1]\n",
    "\n",
    "lhs_ineq = [\n",
    "    [-10, 3],\n",
    "    [9, 4],\n",
    "    [2, -7]\n",
    "]\n",
    "\n",
    "rhs_ineq = [\n",
    "    -2,\n",
    "    6,\n",
    "    14\n",
    "]\n",
    "\n",
    "bnd = [(0, float(\"inf\")),\n",
    "       (0, float(\"inf\"))]\n",
    "\n",
    "opt = linprog(c=obj, A_ub=lhs_ineq, b_ub=rhs_ineq, bounds=bnd, method=\"highs\")\n",
    "\n",
    "print(f\"Message: {opt.message}\")\n",
    "print(f\"Success: {opt.success}\")\n",
    "print(f\"Status: {opt.status}\")\n",
    "print(f\"fun: {opt.fun:.2f}\")\n",
    "print(f\"x: x1 = {opt.x[0]:.2f}, x2 = {opt.x[1]:.2f}\")\n",
    "print(f\"nit: {opt.nit}\")"
   ]
  },
  {
   "cell_type": "code",
   "execution_count": null,
   "id": "7a5a1480-c983-43dd-9373-db87587ff3e5",
   "metadata": {},
   "outputs": [],
   "source": [
    "Message: Optimization terminated successfully. (HiGHS Status 7: Optimal)\n",
    "Success: True\n",
    "Status: 0\n",
    "fun: 1.00\n",
    "x: x1 = 0.20, x2 = 0.00\n",
    "nit: 0"
   ]
  },
  {
   "cell_type": "markdown",
   "id": "9623b4cf-73fb-4605-8014-e6751b538d49",
   "metadata": {},
   "source": [
    "<b>Завдання 2</b>\n",
    "<br>Розв’язати задачу ЛП згідно з індивідуальним варіантом з Практичного заняття 2 (Симплекс-метод) з методички для практичних занять і самостійної роботи.</br>"
   ]
  },
  {
   "cell_type": "markdown",
   "id": "6bfb4175-3668-4a1a-8dba-4e5a1a79c90f",
   "metadata": {},
   "source": [
    "<img src=\"src\\src2.jpg\" />"
   ]
  },
  {
   "cell_type": "code",
   "execution_count": null,
   "id": "c87068c8-9bfa-4c28-b385-0bc1e683275d",
   "metadata": {},
   "outputs": [],
   "source": [
    "from scipy.optimize import linprog\n",
    "\n",
    "obj = [45, 40, 40]\n",
    "\n",
    "lhs_ineq = [\n",
    "    [3, 0, 15],\n",
    "    [3, 5, 10],\n",
    "    [4, 4, 12],\n",
    "    [3, 6, 10],\n",
    "    [4, 5, 12]\n",
    "]\n",
    "\n",
    "rhs_ineq = [4, 5, 12, 15, 16]\n",
    "\n",
    "bnd = [(0, float(\"inf\")),  \n",
    "       (0, float(\"inf\")), \n",
    "       (0, float(\"inf\"))]  \n",
    "\n",
    "opt = linprog(c=obj, A_ub=lhs_ineq, b_ub=rhs_ineq, bounds=bnd, method=\"highs\")\n",
    "\n",
    "print(f\"Message: {opt.message}\")\n",
    "print(f\"Success: {opt.success}\")\n",
    "print(f\"Status: {opt.status}\")\n",
    "print(f\"fun: {opt.fun:.2f}\")\n",
    "print(f\"x: x1 = {opt.x[0]:.2f}, x2 = {opt.x[1]:.2f}, x3 = {opt.x[2]:.2f}\")\n",
    "print(f\"nit: {opt.nit}\")"
   ]
  },
  {
   "cell_type": "code",
   "execution_count": null,
   "id": "0a6b8de7-9998-4b37-9cf3-09970016c7d7",
   "metadata": {},
   "outputs": [],
   "source": [
    "Message: Optimization terminated successfully. (HiGHS Status 7: Optimal)\n",
    "Success: True\n",
    "Status: 0\n",
    "fun: 0.00\n",
    "x: x1 = 0.00, x2 = 0.00, x3 = 0.00\n",
    "nit: 0"
   ]
  },
  {
   "cell_type": "markdown",
   "id": "2cc1ad1e-83d0-4b94-8e94-276b8ce472fd",
   "metadata": {},
   "source": [
    "<b>Завдання 3</b>\n",
    "<br>Розв’язати задачу ЛП згідно з індивідуальним варіантом з Практичного заняття 1 (Графічний метод) з методички для практичних занять і самостійної роботи за допомогою можливостей пакета PuLP.</br>"
   ]
  },
  {
   "cell_type": "markdown",
   "id": "9e7004cc-5c50-4706-a55f-d75c2d95548f",
   "metadata": {},
   "source": [
    "<img src=\"src\\src1.jpg\" />"
   ]
  },
  {
   "cell_type": "code",
   "execution_count": null,
   "id": "2c0c3200-3463-43ec-ad14-f1224e1719cf",
   "metadata": {},
   "outputs": [],
   "source": [
    "from pulp import LpProblem, LpVariable, LpMinimize, LpMaximize, LpStatus, value\n",
    "\n",
    "problem = LpProblem(\"Task_12\", LpMinimize)\n",
    "\n",
    "x = LpVariable(\"x\", lowBound=0)  \n",
    "y = LpVariable(\"y\", lowBound=0)\n",
    "\n",
    "problem += 5 * x + y, \"Objective Function\"\n",
    "\n",
    "problem += -10 * x + 3 * y <= -2, \"Red Constraint\"\n",
    "problem += 9 * x + 4 * y <= 6, \"Blue Constraint\"\n",
    "problem += 2 * x - 7 * y <= 14, \"Yellow Constraint\"\n",
    "\n",
    "problem.solve()\n",
    "\n",
    "print(f\"status: {LpStatus[problem.status]}\")\n",
    "print(f\"objective: {value(problem.objective):.2f}\")\n",
    "print(f\"x: {x.varValue:.2f}\")\n",
    "print(f\"y: {y.varValue:.2f}\")\n",
    "print(f\"red_constraint: {-10 * x.varValue + 3 * y.varValue:.2f} <= -2\")\n",
    "print(f\"blue_constraint: {9 * x.varValue + 4 * y.varValue:.2f} <= 6\")\n",
    "print(f\"yellow_constraint: {2 * x.varValue - 7 * y.varValue:.2f} <= 14\")"
   ]
  },
  {
   "cell_type": "code",
   "execution_count": null,
   "id": "d33d9460-13c8-49fa-ac34-609bfe46dbbe",
   "metadata": {},
   "outputs": [],
   "source": [
    "status: Optimal\n",
    "objective: 1.00\n",
    "x: 0.20\n",
    "y: 0.00\n",
    "red_constraint: -2.00 <= -2\n",
    "blue_constraint: 1.80 <= 6\n",
    "yellow_constraint: 0.40 <= 14"
   ]
  },
  {
   "cell_type": "code",
   "execution_count": null,
   "id": "a2a1a215-8562-4e69-a4a3-99efef92c66e",
   "metadata": {},
   "outputs": [],
   "source": [
    "from pulp import LpProblem, LpVariable, LpMinimize, LpStatus, value\n",
    "\n",
    "model = LpProblem(\"Task_12\", LpMinimize) \n",
    "\n",
    "x = LpVariable(\"x\", lowBound=0)  # x ≥ 0\n",
    "y = LpVariable(\"y\", lowBound=0)  # y ≥ 0\n",
    "\n",
    "model += 5 * x + y, \"Objective Function\"\n",
    "\n",
    "model += 10 * x - 3 * y >= 2, \"Red Constraint\"\n",
    "model += 9 * x + 4 * y <= 6, \"Blue Constraint\"\n",
    "model += 2 * x - 7 * y <= 14, \"Yellow Constraint\"\n",
    "\n",
    "status = model.solve()\n",
    "\n",
    "print(f\"Status: {model.status}, {LpStatus[model.status]}\")\n",
    "print(f\"Objective Value: {model.objective.value():.2f}\")\n",
    "\n",
    "print(\"Optimal Variable Values:\")\n",
    "for var in model.variables():\n",
    "    print(f\"  {var.name}: {var.value():.2f}\")\n",
    "\n",
    "print(\"Constraint Values:\")\n",
    "for name, constraint in model.constraints.items():\n",
    "    print(f\"  {name}: {constraint.value():.2e}\")"
   ]
  },
  {
   "cell_type": "code",
   "execution_count": null,
   "id": "dbc52833-883e-4ff3-bd95-91d1709499b5",
   "metadata": {},
   "outputs": [],
   "source": [
    "Status: 1, Optimal\n",
    "Objective Value: 1.00\n",
    "Optimal Variable Values:\n",
    "  x: 0.20\n",
    "  y: 0.00\n",
    "Constraint Values:\n",
    "  Red_Constraint: 0.00e+00\n",
    "  Blue_Constraint: -4.20e+00\n",
    "  Yellow_Constraint: -1.36e+01"
   ]
  },
  {
   "cell_type": "markdown",
   "id": "94d0725c-587f-47ef-b22e-db5073c45726",
   "metadata": {},
   "source": [
    "<b>Завдання 4</b>\n",
    "<br>Розв’язати задачу ЛП згідно з індивідуальним варіантом з Практичного заняття 2 (Симплекс-метод) з методички для практичних занять і самостійної роботи за допомогою можливостей пакета PuLP.</br>"
   ]
  },
  {
   "cell_type": "markdown",
   "id": "5a4b93f5-4969-44eb-9b10-8efc5ea0b1d6",
   "metadata": {},
   "source": [
    "<img src=\"src\\src2.jpg\" />"
   ]
  },
  {
   "cell_type": "code",
   "execution_count": null,
   "id": "b800df9d-4ba8-4fc0-b92a-99ec0ef1c62b",
   "metadata": {},
   "outputs": [],
   "source": [
    "from pulp import LpMinimize, LpProblem, lpSum, LpVariable, LpStatus\n",
    "\n",
    "model = LpProblem(name=\"optimization-problem\", sense=LpMinimize)\n",
    "\n",
    "K1 = LpVariable(name=\"K1\", lowBound=0, cat='Integer')\n",
    "K2 = LpVariable(name=\"K2\", lowBound=0, cat='Integer')\n",
    "K3 = LpVariable(name=\"K3\", lowBound=0, cat='Integer')\n",
    "\n",
    "model += lpSum([45 * K1, 40 * K2, 50 * K3]), \"Minimize Cost\"\n",
    "\n",
    "model += (3 * K1 + 0 * K2 + 15 * K3 <= 20, \"DC constraint\")\n",
    "model += (3 * K1 + 5 * K2 + 10 * K3 <= 18, \"MUX constraint\")\n",
    "model += (4 * K1 + 4 * K2 + 12 * K3 <= 16, \"Coder constraint\")\n",
    "model += (4 * K1 + 5 * K2 + 12 * K3 <= 15, \"IMC constraint\")\n",
    "\n",
    "status = model.solve()\n",
    "\n",
    "print(f\"Status: {model.status}, {LpStatus[model.status]}\")\n",
    "print(f\"Objective (min cost): {model.objective.value()}\")\n",
    "for var in model.variables():\n",
    "    print(f\"{var.name}: {var.value()}\")\n",
    "\n",
    "for name, constraint in model.constraints.items():\n",
    "    print(f\"{name}: {constraint.value()}\")"
   ]
  },
  {
   "cell_type": "code",
   "execution_count": null,
   "id": "4d1d2b21-a842-4c92-83a7-2349ac4dda34",
   "metadata": {},
   "outputs": [],
   "source": [
    "Status: 1, Optimal\n",
    "Objective (min cost): 0.0\n",
    "K1: 0.0\n",
    "K2: 0.0\n",
    "K3: 0.0\n",
    "DC_constraint: -20.0\n",
    "MUX_constraint: -18.0\n",
    "Coder_constraint: -16.0\n",
    "IMC_constraint: -15.0"
   ]
  },
  {
   "cell_type": "markdown",
   "id": "91b12a6d-7fd9-452c-8291-ae16868d0ed2",
   "metadata": {},
   "source": [
    "<p><strong>Контрольні запитання</strong></p>"
   ]
  },
  {
   "cell_type": "markdown",
   "id": "ac068ac6-e5c1-418c-94b3-fdecf7d05d4f",
   "metadata": {},
   "source": [
    "<br><b>1. Яким чином працює симплекс-метод при розв’язанні задачі лінійного програмування?</b></br>\n",
    "<br>Симплекс-метод — це алгоритм, який дозволяє знайти оптимальне рішення задачі лінійного програмування. Він працює так: уявімо, що розв'язок задачі — це багатогранник у багатовимірному просторі. Алгоритм починає з однієї вершини цього багатогранника і поступово переміщується до сусідніх вершин, покращуючи значення цільової функції. Як тільки досягається вершина, де функція більше не може покращитися, це і є оптимальне рішення. Простіше кажучи, він рухається по \"краях\" багатогранника, поки не знайде найкраще місце.</br>"
   ]
  },
  {
   "cell_type": "markdown",
   "id": "87b2012e-fe3a-415f-bb4c-48a8158d6d9e",
   "metadata": {},
   "source": [
    "<br><b>2. Які основні кроки алгоритму симплекс-методу?</b></br>\n",
    "<br>1. Перетворення задачі в стандартну форму. Спочатку обмеження записуються у вигляді рівнянь, додаються допоміжні змінні, якщо потрібно. Наприклад, замість x + y ≤ 10 ми додаємо змінну s, щоб отримати x + y + s = 10, де s ≥ 0.</br>\n",
    "<br>2. Побудова початкового розв'язку. Вибирається базисне (допустиме) рішення, яке задовольняє всі обмеження. Це точка, з якої алгоритм стартує.</br>\n",
    "<br>3. Пошук покращення. Аналізується, чи можна збільшити (або зменшити) значення цільової функції. Якщо можна, обирається змінна, яка входить у базис, і змінна, яка виходить із базису.</br>\n",
    "<br>4. Оновлення базису. Знаходиться нове рішення, яке відповідає обмеженням, але дає краще значення функції.</br>\n",
    "<br>5. Перевірка оптимальності. Якщо покращення більше неможливе, то знайдено оптимальне рішення. Якщо можна покращити, алгоритм повторюється.</br>"
   ]
  },
  {
   "cell_type": "markdown",
   "id": "08f9648d-1a4e-46b3-9c34-2333be6117e3",
   "metadata": {},
   "source": [
    "<br><b>3. Які недоліки має інструментарій бібліотеки SciPy у порівнянні з PuLP?</b></br>\n",
    "<br>Ну, якщо порівнювати SciPy і PuLP, то у SciPy є деякі обмеження. Наприклад, в SciPy розв'язувати задачі з цілими числами значно складніше, тому що він більше заточений під задачі з безперервними змінними. А в PuLP є прямий інструментарій для роботи з цілими і навіть булевими змінними.\n",
    "\n",
    "Ще один момент — у SciPy обмеження треба задавати у вигляді масивів і матриць, а це не завжди зручно. В PuLP можна просто записати обмеження як рівняння, і це виглядає набагато зрозуміліше, особливо для людей, які звикли до математичної нотації.\n",
    "\n",
    "І, нарешті, PuLP має кращу інтеграцію з різними солверами, наприклад, CBC або Gurobi. Це означає, що для великих задач PuLP буде ефективнішим. У SciPy ж є лише базовий вбудований солвер, який може працювати повільніше.</br>"
   ]
  }
 ],
 "metadata": {
  "kernelspec": {
   "display_name": "Python 3 (ipykernel)",
   "language": "python",
   "name": "python3"
  },
  "language_info": {
   "codemirror_mode": {
    "name": "ipython",
    "version": 3
   },
   "file_extension": ".py",
   "mimetype": "text/x-python",
   "name": "python",
   "nbconvert_exporter": "python",
   "pygments_lexer": "ipython3",
   "version": "3.12.5"
  }
 },
 "nbformat": 4,
 "nbformat_minor": 5
}
