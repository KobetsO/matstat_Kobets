{
 "cells": [
  {
   "cell_type": "markdown",
   "id": "5e560ed0-4637-41e6-886b-fae862045d04",
   "metadata": {},
   "source": [
    "<h1 style=\"text-align:center;\">Лабораторна робота №6</h1>\n",
    "<p><b>Тема.</b> Структури даних стек і черга</p>\n",
    "<p><b>Мета:</b> Засвоїти головні функції та алгоритми роботи зі стеком і чергою засобами Python.</p>"
   ]
  },
  {
   "cell_type": "markdown",
   "id": "ffd3429b-b667-4348-86a6-29c48f7667e1",
   "metadata": {},
   "source": [
    "<p><strong>Завдання для самостійної роботи:</strong></p>"
   ]
  },
  {
   "cell_type": "markdown",
   "id": "d3c2375c-625e-463c-8c62-9df5580ca095",
   "metadata": {},
   "source": [
    "<b>1. Написати функцію pop_n(), що видаляє елементи стека з його початку до номера n включно</b>"
   ]
  },
  {
   "cell_type": "code",
   "execution_count": null,
   "id": "37719794-2ce4-45f9-b812-3be98573dbcf",
   "metadata": {},
   "outputs": [],
   "source": [
    "class Stack:\n",
    "    def __init__(self):\n",
    "        self.items = []\n",
    "\n",
    "    def push(self, item):\n",
    "        self.items.append(item)\n",
    "\n",
    "    def pop(self):\n",
    "        if not self.is_empty():\n",
    "            return self.items.pop()\n",
    "        return None\n",
    "\n",
    "    def is_empty(self):\n",
    "        return len(self.items) == 0\n",
    "\n",
    "    def size(self):\n",
    "        return len(self.items)\n",
    "\n",
    "\n",
    "def pop_n(stack, n):\n",
    "    for _ in range(min(n, stack.size())):\n",
    "        stack.pop()\n",
    "\n",
    "\n",
    "stack = Stack()\n",
    "stack.push(1)\n",
    "stack.push(2)\n",
    "stack.push(3)\n",
    "stack.push(4)\n",
    "\n",
    "pop_n(stack, 2)\n",
    "print(stack.items)"
   ]
  },
  {
   "cell_type": "code",
   "execution_count": null,
   "id": "39ae7fea-3927-45c7-bf8b-de6b1f85ab86",
   "metadata": {},
   "outputs": [],
   "source": [
    "[1, 2]"
   ]
  },
  {
   "cell_type": "markdown",
   "id": "bc4ccc9b-dbc3-44ac-a318-2404e057f079",
   "metadata": {},
   "source": [
    "<b>2. Оцінити асимптотичну складність (у середньому і в найгіршому разі) процедур search, insert і delete роботи зі стеком</b>\n",
    "\n",
    "1. Вставка (insert):\n",
    "   <ul>\n",
    "       <li>Опис: Додавання елементу у вершину стеку.</li>\n",
    "       <li>Складність: O(1) у середньому і в найгіршому випадку.</li>\n",
    "       <li>Вставка елемента у стек завжди займає однаковий час, оскільки додавання відбувається у вершину.</li>\n",
    "   </ul>\n",
    "\n",
    "2. Видалення (delete):\n",
    "    <ul>\n",
    "        <li>Опис: Видалення елементу з вершини стеку.</li>\n",
    "        <li>Складність: O(1) у середньому і в найгіршому випадку.</li>\n",
    "        <li>Видалення елемента з вершини стеку завжди займає однаковий час.</li>\n",
    "    </ul>\n",
    "\n",
    "3. Пошук (search):\n",
    "    <ul>\n",
    "        <li>Опис: Пошук елементу у стеку.</li>\n",
    "        <li>Складність: O(n) у середньому і в найгіршому випадку.</li>\n",
    "        <li>У найгіршому випадку потрібно переглянути всі елементи стеку, щоб знайти потрібний елемент або переконатися, що його немає у стеку.</li>\n",
    "    </ul>"
   ]
  },
  {
   "cell_type": "markdown",
   "id": "ac1ca626-c71e-4c4e-bf50-0c8cca90d019",
   "metadata": {},
   "source": [
    "<h5 style=\"text-align:center;\">Контрольні питання</h5>"
   ]
  },
  {
   "cell_type": "markdown",
   "id": "699c560b-c6d1-40ac-bd65-c8bd64ea84f8",
   "metadata": {},
   "source": [
    "<b>1. Що таке стек і які операції можна виконувати зі стеком?</b>\n",
    "\n",
    "<strong>Стек</strong> — це структура даних типу LIFO (Last In, First Out), де елементи додаються та видаляються з вершини. Операції, які можна виконувати зі стеком:\n",
    "\n",
    "<ul>\n",
    "    <li>push(x): додати елемент x у вершину стеку.</li>\n",
    "    <li>pop(): видалити і повернути елемент з вершини стеку.</li>\n",
    "    <li>peek() або top(): повернути елемент з вершини стеку, не видаляючи його.</li>\n",
    "    <li>is_empty(): перевірити, чи порожній стек.</li>\n",
    "    <li>size(): повернути кількість елементів у стеку.</li>\n",
    "</ul>"
   ]
  },
  {
   "cell_type": "markdown",
   "id": "bcbab158-f112-4201-ae92-ca5b679ba3ef",
   "metadata": {},
   "source": [
    "<b>2. Яка основна відмінність між стеком та чергою?</b>\n",
    "\n",
    "<ul>\n",
    "    <li>Стек: працює за принципом LIFO (останній прийшов, перший пішов). Елементи додаються і видаляються з одного кінця (вершини).</li>\n",
    "    <li>Черга: працює за принципом FIFO (перший прийшов, перший пішов). Елементи додаються в кінець і видаляються з початку.</li>\n",
    "</ul>"
   ]
  },
  {
   "cell_type": "markdown",
   "id": "3c128599-5e3a-427b-a1ff-7945c255f51c",
   "metadata": {},
   "source": [
    "<b>3. Як ви можете реалізувати стек за допомогою масиву і за допомогою зв’язаного списку? Які переваги та недоліки кожного підходу?</b>\n",
    "\n",
    "Реалізація стеку за допомогою масиву\n",
    "\n",
    "Переваги:\n",
    "\n",
    "<ul>\n",
    "    <li>Простота реалізації.</li>\n",
    "    <li>Швидкий доступ до елементів за індексом.</li>\n",
    "</ul>\n",
    "\n",
    "Недоліки:\n",
    "\n",
    "<ul>\n",
    "    <li>Фіксований розмір (якщо використовувати статичний масив).</li>\n",
    "    <li>Необхідність збільшення розміру (якщо використовувати динамічний масив), що може призвести до витрат часу на копіювання.</li>\n",
    "</ul>"
   ]
  },
  {
   "cell_type": "code",
   "execution_count": null,
   "id": "4b35b785-58ba-4694-80ab-7d3d343a4a69",
   "metadata": {},
   "outputs": [],
   "source": [
    "class ArrayStack:\n",
    "    def __init__(self):\n",
    "        self.items = []\n",
    "\n",
    "    def push(self, item):\n",
    "        self.items.append(item)\n",
    "\n",
    "    def pop(self):\n",
    "        if not self.is_empty():\n",
    "            return self.items.pop()\n",
    "        return None\n",
    "\n",
    "    def peek(self):\n",
    "        if not self.is_empty():\n",
    "            return self.items[-1]\n",
    "        return None\n",
    "\n",
    "    def is_empty(self):\n",
    "        return len(self.items) == 0\n",
    "\n",
    "    def size(self):\n",
    "        return len(self.items)"
   ]
  },
  {
   "cell_type": "markdown",
   "id": "e96d742d-ec7e-4c1c-9de7-505055a6992f",
   "metadata": {},
   "source": [
    "Реалізація стеку за допомогою зв’язаного списку\n",
    "\n",
    "Переваги:\n",
    "\n",
    "<ul>\n",
    "    <li>Гнучкий розмір (можна додавати або видаляти елементи без необхідності збільшення розміру).</li>\n",
    "    <li>Використання пам’яті тільки для необхідних елементів.</li>\n",
    "</ul>\n",
    "Недоліки:\n",
    "\n",
    "<ul>\n",
    "    <li>Більш складна реалізація.</li>\n",
    "    <li>Більш повільний доступ до елементів порівняно з масивом через необхідність проходити список.</li>\n",
    "</ul>"
   ]
  },
  {
   "cell_type": "code",
   "execution_count": null,
   "id": "587957ba-76ee-4cb5-b981-4c2c7e59d20b",
   "metadata": {},
   "outputs": [],
   "source": [
    "class Node:\n",
    "    def __init__(self, data=None):\n",
    "        self.data = data\n",
    "        self.next = None\n",
    "\n",
    "class LinkedListStack:\n",
    "    def __init__(self):\n",
    "        self.head = None\n",
    "        self._size = 0\n",
    "\n",
    "    def push(self, item):\n",
    "        new_node = Node(item)\n",
    "        new_node.next = self.head\n",
    "        self.head = new_node\n",
    "        self._size += 1\n",
    "\n",
    "    def pop(self):\n",
    "        if self.is_empty():\n",
    "            return None\n",
    "        popped_item = self.head.data\n",
    "        self.head = self.head.next\n",
    "        self._size -= 1\n",
    "        return popped_item\n",
    "\n",
    "    def peek(self):\n",
    "        if self.is_empty():\n",
    "            return None\n",
    "        return self.head.data\n",
    "\n",
    "    def is_empty(self):\n",
    "        return self.head is None\n",
    "\n",
    "    def size(self):\n",
    "        return self._size"
   ]
  },
  {
   "cell_type": "markdown",
   "id": "840282b4-c646-4370-8e09-c5d775c4bf68",
   "metadata": {},
   "source": [
    "<b>4. Які є застосування стека та черги в програмуванні і реальному житті?</b>\n",
    "\n",
    "<strong>Застосування стека</strong>\n",
    "\n",
    "У програмуванні:\n",
    "<ul>\n",
    "    <li>Рекурсія: Використання стеку для зберігання станів рекурсивних викликів.</li>\n",
    "    <li>Обробка виразів: Застосування стеку для перевірки балансу дужок та обчислення значень математичних виразів (наприклад, в оберненій польській нотації).</li>\n",
    "    <li>Скасування дій: Використання стеку для зберігання історії дій у текстових редакторах, щоб можна було скасувати останні зміни.</li>\n",
    "</ul>\n",
    "У реальному житті:\n",
    "<ul>\n",
    "    <li>Стопка тарілок: При додаванні або видаленні тарілок з вершини стопки використовується принцип LIFO.</li>\n",
    "    <li>Кнопка \"Назад\" в браузері: Зберігає історію відвіданих сторінок у стеку, щоб можна було повернутися назад.</li>\n",
    "</ul>\n",
    "<strong>Застосування черги</strong>\n",
    "\n",
    "У програмуванні:\n",
    "<ul>\n",
    "    <li>Обробка задач: Використання черги для зберігання задач, які мають бути оброблені в порядку надходження (наприклад, в операційних системах для планування процесів).</li>\n",
    "    <li>Затори даних: Використання черги для управління потоками даних, щоб уникнути перевантаження системи.</li>\n",
    "</ul>\n",
    "У реальному житті:\n",
    "<ul>\n",
    "    <li>Черга в магазині: Люди стоять у черзі і обслуговуються в порядку надходження.</li>\n",
    "    <li>Обробка заявок: Використання черги для обробки заявок, наприклад, у банках або службах підтримки клієнтів.</li>\n",
    "</ul>"
   ]
  }
 ],
 "metadata": {
  "kernelspec": {
   "display_name": "Python 3 (ipykernel)",
   "language": "python",
   "name": "python3"
  },
  "language_info": {
   "codemirror_mode": {
    "name": "ipython",
    "version": 3
   },
   "file_extension": ".py",
   "mimetype": "text/x-python",
   "name": "python",
   "nbconvert_exporter": "python",
   "pygments_lexer": "ipython3",
   "version": "3.12.5"
  }
 },
 "nbformat": 4,
 "nbformat_minor": 5
}
